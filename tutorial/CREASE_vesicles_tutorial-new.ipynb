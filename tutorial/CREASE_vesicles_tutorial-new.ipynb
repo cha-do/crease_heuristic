{
 "cells": [
  {
   "cell_type": "markdown",
   "metadata": {},
   "source": [
    "# CREASE for Vesicle Analysis"
   ]
  },
  {
   "cell_type": "markdown",
   "metadata": {},
   "source": [
    "## Introduction\n",
    "\n",
    "**This tutorial has been created by Ziyu Ye, Zijie Wu, and Arthi Jayaraman to accompany their publication: Ye, Z.; Wu, Z; Jayaraman, A. Computational Reverse-Engineering Analysis for Scattering Experiments (CREASE) on Vesicles Assembled from Amphiphilic Macromolecular Solutions (*JACS Au, Accepted*)**\n",
    "\n",
    "In general, Computational Reverse Engineering Analysis for Scattering Experiments (CREASE) is a two-step approach that combines a genetic algorithm (GA) as the first step with molecular simulations based reconstruction as the second step to determine for a given input scattering profile the structural features of assembled structures in macromolecular solutions. Structural features range from aggregate dimensions to the chain- and monomer- level packing within the aggregate. This tutorial presents CREASE for vesicles. If you use CREASE in your work, we ask that you please cite one of the relevant papers below. If you use this vesicle code, please cite Reference 5. \n",
    "\n",
    "\n",
    "[1] Beltran-Villegas, D. J.; Wessels, M. G.; Lee, J. Y.; Song, Y.; Wooley, K. L.; Pochan, D. J.; Jayaraman, A. Computational Reverse-Engineering Analysis for Scattering Experiments on Amphiphilic Block Polymer Solutions. *J. Am. Chem. Soc.* **2019**, 141, 14916−14930.\n",
    "\n",
    "[2] Wessels, M. G.; Jayaraman, A. Computational Reverse-Engineering Analysis of Scattering Experiments (CREASE) on Amphiphilic Block Polymer Solutions: Cylindrical and Fibrillar Assembly. *Macromolecules* **2021**, 54, 783-796.\n",
    "\n",
    "[3] Wessels, M. G.; Jayaraman, A. Machine Learning Enhanced Computational Reverse Engineering Analysis for Scattering Experiments (CREASE) to Determine Structures in Amphiphilic Polymer Solutions. *ACS Polymers Au* **2021**, https://doi.org/10.1021/acspolymersau.1c00015.\n",
    "\n",
    "[4] Heil, C.; Jayaraman, A. Computational reverse-engineering analysis for scattering experiments of assembled binary mixture of nanoparticles. *ACS Materials Au* **2021**, https://doi.org/10.1021/acsmaterialsau.1c00015\n",
    "\n",
    "[5] Ye, Z.; Wu, Z; Jayaraman, A. Computational Reverse-Engineering Analysis for Scattering Experiments (CREASE) on Vesicles Assembled from Amphiphilic Macromolecular Solutions. *JACS Au* **2021**, https://pubs.acs.org/doi/10.1021/jacsau.1c00305 \n",
    "\n",
    "This notebook presents a tutorial on how the first step of CREASE, the GA step, works to determine the structural features of the assembled structure (vesicle in this tutorial) found in macromolecular solutions from small angle scattering intensity profiles, I(q)s. The GA code takes as input an I(q) and finds the structural dimensions of the vesicle whose computed scattering profile, $I_{comp}(q)$, best matches the input I(q). The GA code presented here is applicable to a vesicle structure with an empty (solvent filled) core and three layers (two solvophilic layers and one solvophobic layer). But it can be adapted to other shapes and geometries by slight modifications of the code that will be highlighted as such.\n",
    "\n",
    "The GA code for vesicles is able to determine:\n",
    "1. Vesicle dimensions: the core radius ($R_{core}$), the inner solvophilic A layer thickness ($t_{Ain}$), the middle solvophobic B layer thickness ($t_{B}$), and the outer solvophilic A layer thickness ($t_{Aout}$) \n",
    "2. How the solvophilic scatterers are split between inner ($s_{Ain}$) and outer ($1-s_{Ain}$) layers.\n",
    "3. Dispersity (or polydispersity) in vesicle size (here implemented in the core radius dimension ($\\sigma_{R}$) during I(q) calculation).\n",
    "\n",
    "<img src=\"CREASE_vesicles_code_structure_dimensions.png\" width=300 height=300 />"
   ]
  },
  {
   "cell_type": "markdown",
   "metadata": {},
   "source": [
    "A basic understanding of how a GA works and the associated technical terms (e.g. gene, generation, selection, fitness, crossover, mutation) would be helpful for following along with this tutorial. The user can find a brief introduction to GA from any of the five references listed above, especially in the original reference [1]. The [wikipedia page of genetic algorithm](https://en.wikipedia.org/wiki/Genetic_algorithm) also offers an overview of the GA method.\n",
    "\n",
    "Below is the general structure showing the flow of the GA code presented in this package:\n",
    "\n",
    "<img src=\"tutorial_images/Slide2.PNG\" width=600 height=600 />"
   ]
  },
  {
   "cell_type": "markdown",
   "metadata": {},
   "source": [
    "## Setup python libraries"
   ]
  },
  {
   "cell_type": "code",
   "execution_count": null,
   "metadata": {},
   "outputs": [],
   "source": [
    "import crease_ga as cga\n",
    "from inspect import getsource"
   ]
  },
  {
   "cell_type": "markdown",
   "metadata": {},
   "source": [
    "### Model\n",
    "\n",
    "Current \"location\" in the code flow diagram marked in red:\n",
    "\n",
    "<img src=\"tutorial_images/Slide3.PNG\" width=600 height=600 />\n",
    "\n",
    "Let's start with the initial arguments that the user needs to choose and input for their system. \n",
    "\n",
    "In the cell block below, the user needs to specify the arguments that define the basic architecture of the genetic algorithm:\n",
    "* number of individuals in a population (`pop_number`)\n",
    "* number of generations that GA runs for (`generations`)\n",
    "* number of binary digits used to represent each individual (`nloci`)\n",
    "\n",
    "The user chooses the above three arguments to run the GA. The choice of these three arguments will significantly affect the performance of the GA. We recommend that the user test out different combinations of these three parameters to ensure convergence to the right output. For the vesicle example, after multiple tests during our previous work, we recommend the following values for these arguments for reliable performance of GA on vesicle:\n",
    "* `pop_number = 80`\n",
    "* `generations = 100`\n",
    "* `nloci = 7`\n",
    "\n",
    "Because the computational time needed to complete the GA run increases with increasing number of individuals and generations, for the purpose of completing this tutorial within reasonable time within a jupyter notebook, we use the following values:\n",
    "* `pop_number = 10`\n",
    "* `generations = 2`\n",
    "* `nloci = 7`\n",
    "\n",
    "You should not expect to see the 'best' $I_{comp}$(q) matching the input or target $I$(q) with these settings. With a larger number of individuals and generations, you can see how the GA predictions evolve over the generations to higher \"fitness\" structures [i.e. closer match to the input $I$(q)].\n",
    "\n",
    "For each individual in the GA, we store information about structural features as genes in its genome. For each of the individual's genes, the information is encoded as a seven-bit (chosen by the user as $n_{loci}$, set in this tutorial as 7) binary sequence that corresponds to the value of structural dimensions evenly distributed between the minimum and maximum bounds set by the user (minimum bound will be 0000000, and maximum 1111111). The choice of the number of binary bits will determine the precision of the final optimized structural dimensions.\n",
    "\n",
    "*You may ask at this point - why are we encoding the parameters in a binary fashion?*\n",
    "That is a great question! Actually, whether to use binary or decimal encoding has always been a topic of debate in the field of genetic algorithm. Traditional GAs tend to use binary coding (referred to as 'binary-coded GA'), but there also have been numerous applications of GA to engineering problems using \"decimal coding\" (often referred to as 'real-coded GA'). We developed the algorithm following the binary coding route, but there is technically no reason why one cannot use real-coded GA for this problem. One can always rewrite our genetic operator algorithms if one wishes to use real-coded GA (more on this later)"
   ]
  },
  {
   "cell_type": "code",
   "execution_count": null,
   "metadata": {},
   "outputs": [],
   "source": [
    "m = cga.Model(pop_number = 10,\n",
    "              generations = 2,\n",
    "              nloci = 7)"
   ]
  },
  {
   "cell_type": "markdown",
   "metadata": {},
   "source": [
    "## load_shape\n",
    "\n",
    "<img src=\"tutorial_images/Slide4.PNG\" width=600 height=600 />\n",
    "\n",
    "The second set of arguments passed to the GA is done through `load_shape`, and here, the user chooses the assembled morphology they are attempting to match. For this tutorial the shape is 'vesicle'.\n",
    "\n",
    "**shape_params**\n",
    "\n",
    "Regardless of the type of assembled shape (vesicles, micelles, etc.), each shape requires the user to choose a set of shape descriptors that defines the basic morphology of the structure. In this example, we use the `vesicle` shape, which requires the following 7 shape descriptors (specified as a list given *exactly* in the following order with the `shape_params` argument):\n",
    "* Number of scatterers used to represent a chain (${num}_{scatterers}$)\n",
    "* Number of monomers in a chain ($N$)\n",
    "* Occupied volume fraction of the scatterers in the domain occupied by solvophobic B blocks ($\\eta_B$)\n",
    "* Diameter of a monomer of chemistry B ($l_{mono,b}$） [Angstrom]\n",
    "* Diameter of a monomer of chemistry A ($l_{mono,a}$）[Angstrom]\n",
    "* Fraction of monomers in chain that are of B type ($f_B$)\n",
    "* Number of replicates ($n_{LP}$)\n",
    "\n",
    "For vesicles assembled from amphiphilic macromolecules with solvophilic A and solvophobic B blocks, two types of scatterers (A and B, respectively) are randomly placed within the designated vesicle layer boundaries (more details to be given later). The ratio of A and B scatterers matches the composition of the amphiphilic macromolecule (1−$f_B$:$f_B$).  We note that the scatterers could be point scatterers or scatterers with a specified diameter, the latter being the case in this example (for reasons described in the reference [5]). Regardless of the choice, the total number of A and B scatterers is another choice that the user has to make to balance the accuracy of the output vesicle dimensions from GA and the computational time for the $I_{comp}$(q) calculation (more details to be given later).\n",
    "\n",
    "NOTE: The determination of $I_{comp}$(q) in the GA only uses the scatterer placements and these placements do NOT include any connectivity to resemble macromolecules [i.e. no polymer chains are placed].\n",
    "\n",
    "In this vesicle example, the user can enter the macromolecular information about the solution that was used to obtain the scattering profile to guide the choice of number of scatterers placed in the individual candidate structure. Here for this tutorial example, we use the molecular information for a diblock copolymer with the solvophilic block A and solvophobic block B forming the vesicle bilayer. The diblock chain has total number of  𝑁 monomer beads with $f_B$ fraction of the beads in the chain being solvophobic. The occupied volume fraction of the scatterers in the domain occupied by solvophobic B blocks, defined as total occupied volume by scatterers of chemistry B divided by total volume of B layer, is given by $\\eta_B$ and the diameters of the A and B beads (or \"monomer contour length\") are given by $l_{mono,a}$ and $l_{mono,b}$, respectively. The specific values used in this example are given in the code block below.\n",
    "\n",
    "For this vesicle system example, we calculate each individual's $I_{comp}$(q) using $n_{LP}$ different replicates/configurations of random scatterer placements to generate the averaged $I_{comp}$(q) for that individual. Having multiple configurations of scatterer placements mitigates the risk that one configuration of scatterer placements biases the computed scattering intensity. One could also choose to replace the use of multiple ($n_{LP}$=7 in this case) placements of fewer scatterers with just one placement using a significantly higher total number of scatterers per unit volume (i.e., scatterer density, can be changed by varying ${num}_{scatterers}$) to reduce bias compared to using fewer scatterers (or smaller scatterer density). We choose to use multiple different configurations of random scatterer placements in this case to incorporate the ability to capture dispersity in dimensions (more details will be found later). We also note that the computational cost of $I_{comp}$(q) scales quadratically with the number of scatterers used, providing another reason for multiple replicates.\n",
    "\n",
    "For a more detailed discussion on the `shape_params` arguments and scatterer density in the specific case of CREASE for vesicles, please see reference [5]. We note that a future update to this code will replace ${num}_{scatterers}$, $N$, $\\eta_B$, $l_{mono,a}$, and $l_{mono,b}$ with a single parameter that directly sets the number density of scatterers (relevant for structure resolution) allowing for a more intuitive user experience.\n",
    "\n",
    "**Setting bounds for GA parameters**\n",
    "\n",
    "The user also sets the maximum (`maxvalu`) and minimum (`minvalu`) bounds for each parameter (or gene) of the individual candidate structure. For the vesicle system example, the GA determines the following parameters:\n",
    "* Core radius ($R_{core}$) \n",
    "* Three individual layer thicknesses in the bilayer consisting of the inner solvophilic A layer ($t_{Ain}$), middle solvophobic B layer ($t_{B}$), and the outer solvophilic A layer ($t_{Aout}$) \n",
    "* Split of the solvophilic scatterers between inner and outer layers ($s_{Ain}$)\n",
    "* Dispersity in the core radius dimension ($\\sigma_{R}$)\n",
    "* Negative $log_{10}$ of background intensity ($-log_{10}(bg)$)\n",
    "\n",
    "The structural parameters (core radius and the three layer thicknesses) in the vesicle shape are coded in Angstroms ($A$), and `q` is given in inverse Angstroms ($A^{-1}$).\n",
    "\n",
    "Just to reiterate, different shapes will have different sets of shape descriptors and parameters, so the aforementioned lists of shape descriptors, parameters and their definitions only apply to the vesicle shape. It is important for the user to make sure that the shape descriptors and minimum/maximum bounds of the parameters correspond to the expectation of the chosen shape.\n"
   ]
  },
  {
   "cell_type": "markdown",
   "metadata": {},
   "source": [
    "To properly use a shape, a user will need to understand what each value in `shape_params` (the shape descriptors) corresponds to and what each value specified in `minvalu` and `maxvalu` refer to (the dimension parameters GA is going to predict based on the input I(q) profile). These pieces of information, as explained in the previous cell, can also be retrieved by calling the docstring of the `scatterer_generator` class of each shape, or checking the API of the relevant shape. For example, for shape _vesicle_,"
   ]
  },
  {
   "cell_type": "code",
   "execution_count": null,
   "metadata": {},
   "outputs": [],
   "source": [
    "# optional to run\n",
    "import crease_ga.shapes.vesicle.scatterer_generator as sg\n",
    "print(sg.scatterer_generator.__doc__)"
   ]
  },
  {
   "cell_type": "markdown",
   "metadata": {},
   "source": [
    "Now let's run the code below to load the shape `vesicle` with the proper `shape_params` and minimum/maximum bounds of the parameters set."
   ]
  },
  {
   "cell_type": "code",
   "execution_count": null,
   "metadata": {},
   "outputs": [],
   "source": [
    "m.load_shape(shape='vesicle', \n",
    "                 shape_params=[24,54,0.5,50.4,50.4,0.55,7], #num_scatterers,N,rho_B,lmono_b,lmono_a,f_B,nLP \n",
    "                 minvalu = (50, 30, 30, 30, 0.1, 0.0, 0.1), #lower bounds: R_core,t_Ain,t_B,t_Aout,s_Ain,sigma_R,-log10(bg) \n",
    "                 maxvalu = (400, 200, 200, 200, 0.45, 0.45, 4)) # upper bounds: R_core,t_Ain,t_B,t_Aout,s_Ain,sigma_R,-log10(bg)"
   ]
  },
  {
   "cell_type": "markdown",
   "metadata": {},
   "source": [
    "The final preparation step we need to do before the model is prepared for the GA iteration/optimization is to specify the \\\"input\\\" $I_{exp}(q)$, i.e. the input I(q) profile we want to analyze to obtain relevant structural dimensions."
   ]
  },
  {
   "cell_type": "markdown",
   "metadata": {},
   "source": [
    "### load_iq\n",
    "\n",
    "<img src=\"tutorial_images/Slide5.PNG\" width=600 height=600 />\n",
    "After setting the shape we will be using, we read in the input \"experimental\" scattering intensity profile $I_{exp}(q)$, which in this example is stored in a text file that has the $q$ and $I(q)$ information each as a column. \n",
    "\n",
    "For the example here, our $I_{exp}(q)$ is an *in silico* $I(q)$ created from a target vesicle structure where all dimensions and dispersity in size are known. Thus, the GA can be tested and validated to see how well it performs in determining each parameter.\n",
    "\n",
    "After loading in the target $I_{exp}(q)$, the user can set the upper and lower bounds on the $q$-range over which the GA will determine the best candidate vesicle structure. \n",
    "\n",
    "The optional cell block below provides detailed information on the code implementation to load the input $I_{exp}(q)$."
   ]
  },
  {
   "cell_type": "code",
   "execution_count": null,
   "metadata": {},
   "outputs": [],
   "source": [
    "# optional to run\n",
    "print(getsource(cga.Model.load_iq))"
   ]
  },
  {
   "cell_type": "markdown",
   "metadata": {},
   "source": [
    "And now let's load the target $I_{exp}(q)$ for this tutorial and have a look at what we just loaded, the q (`qrange`) and the I(q) (`IQin`):"
   ]
  },
  {
   "cell_type": "code",
   "execution_count": null,
   "metadata": {},
   "outputs": [],
   "source": [
    "m.load_iq('../IEXP_DATA/Itot_disper_10_Ain12_B6_Aout12_nLP7_dR0.2.txt')\n",
    "import matplotlib.pyplot as plt\n",
    "plt.loglog(m.qrange,m.IQin,marker='v')\n",
    "plt.xlabel('q ($A^{-1}$)')\n",
    "plt.ylabel('I(q)')\n",
    "oldq = m.qrange\n",
    "oldIQ = m.IQin"
   ]
  },
  {
   "cell_type": "markdown",
   "metadata": {},
   "source": [
    "Sometimes, a user might only be interested in fitting to a portion of the q range. This can be done by setting the `q_bounds` argument of `load_iq` to `[lower_bound,higher_bound]`. For example:"
   ]
  },
  {
   "cell_type": "code",
   "execution_count": null,
   "metadata": {},
   "outputs": [],
   "source": [
    "m.load_iq('../IEXP_DATA/Itot_disper_10_Ain12_B6_Aout12_nLP7_dR0.2.txt',\n",
    "          q_bounds=[0.005,0.1])\n",
    "import matplotlib.pyplot as plt\n",
    "norm = oldIQ[-2]/m.IQin[-1]\n",
    "plt.loglog(oldq,oldIQ/norm,marker='v')\n",
    "plt.loglog(m.qrange,m.IQin,marker='o')\n",
    "plt.xlabel('q ($A^{-1}$)')\n",
    "plt.ylabel('I(q)')"
   ]
  },
  {
   "cell_type": "markdown",
   "metadata": {},
   "source": [
    "You can see that the first two and last one pairs of q and I(q) values have been excluded because they are out of the bounds that we have set."
   ]
  },
  {
   "cell_type": "markdown",
   "metadata": {},
   "source": [
    "## Solve\n",
    "\n",
    "<img src=\"tutorial_images/Slide6.PNG\" width=600 height=600 />\n",
    "\n",
    "After defining the parameters and choosing the shape for the structure, we can start running the GA. This is done by calling the `solve` instance method of the `Model` class. If you are interested, run the block below to see the source code."
   ]
  },
  {
   "cell_type": "code",
   "execution_count": null,
   "metadata": {},
   "outputs": [],
   "source": [
    "# optional to run\n",
    "print(getsource(cga.Model.solve))"
   ]
  },
  {
   "cell_type": "markdown",
   "metadata": {},
   "source": [
    "### Initial_pop\n",
    "\n",
    "<img src=\"tutorial_images/Slide7.PNG\" width=600 height=600 />\n",
    "\n",
    "The first thing `solve` does is to call the utility method `initial_pop` to create the first generation of individuals for the GA iteration. `Initial_pop` takes in the number of individuals in a population and generates individual candidate structures based on the bounds set for each of the GA parameters. It then outputs the population information (`pop`) back to the GA code.\n",
    "\n",
    "To see the source code of this function, run following block:"
   ]
  },
  {
   "cell_type": "code",
   "execution_count": null,
   "metadata": {},
   "outputs": [],
   "source": [
    "# optional to run\n",
    "print(getsource(cga.utils.initial_pop))"
   ]
  },
  {
   "cell_type": "markdown",
   "metadata": {},
   "source": [
    "To read the docstring of this function, run following block:"
   ]
  },
  {
   "cell_type": "code",
   "execution_count": null,
   "metadata": {},
   "outputs": [],
   "source": [
    "# optional to run\n",
    "print(cga.utils.initial_pop.__doc__)"
   ]
  },
  {
   "cell_type": "markdown",
   "metadata": {},
   "source": [
    "Run the block below to see what a binary representation for an example of 10 individuals in the population looks like:"
   ]
  },
  {
   "cell_type": "code",
   "execution_count": null,
   "metadata": {},
   "outputs": [],
   "source": [
    "# optional to run\n",
    "pop = cga.utils.initial_pop(popnumber = 10, nloci = 7, numvars = 7)\n",
    "print(pop)"
   ]
  },
  {
   "cell_type": "markdown",
   "metadata": {},
   "source": [
    "We can use the `decode` method provided in `crease_ga.utils` to convert these binary bits to their corresponding decimal parameter values. Let's try that on `pop[0]`, the first individual of the population we generated above."
   ]
  },
  {
   "cell_type": "code",
   "execution_count": null,
   "metadata": {},
   "outputs": [],
   "source": [
    "# optional to run\n",
    "print(getsource(cga.utils.decode))"
   ]
  },
  {
   "cell_type": "code",
   "execution_count": null,
   "metadata": {},
   "outputs": [],
   "source": [
    "# optional to run\n",
    "print('binary',pop[0])\n",
    "print('decimal',cga.utils.decode(pop,0,\n",
    "                                 nloci=7,\n",
    "                                 minvalu=[50, 30, 30, 30, 0.1, 0.0, 0.1], #lower bounds: R_core,t_Ain,t_B,t_Aout,s_Ain,sigma_R,-log10(bg)\n",
    "                                 maxvalu=[400, 200, 200, 200, 0.45, 0.45, 4])) #Upper bounds: R_core,t_Ain,t_B,t_Aout,s_Ain,sigma_R,-log10(bg)"
   ]
  },
  {
   "cell_type": "markdown",
   "metadata": {},
   "source": [
    "Now that the first generation has been generated, GA is ready to enter the iterative process of \n",
    "* calculating $I_{comp}$(q) for each individual within a generation (see section *converttoIQ*);\n",
    "* calculating fitness for each individual, based on how well its $I_{comp}$(q) matches $I_{exp}$(q) (see section *fitness calculation*);\n",
    "* performing genetic operations to produce a new generation (see section *genetic_operations*)\n",
    "\n",
    "until the specified number of generations has been exhausted. The first two steps are accomplished in the `fitness` instance method of `model` class, while the last is accomplished in the `genetic_operations` method of `model` class.\n",
    "\n",
    "Next, we provide a more detailed explanation for each of these three steps.\n",
    "\n",
    "<img src=\"tutorial_images/Slide8.PNG\" width=600 height=600 />"
   ]
  },
  {
   "cell_type": "markdown",
   "metadata": {},
   "source": [
    "## converttoIQ\n",
    "\n",
    "<img src=\"tutorial_images/Slide9.PNG\" width=600 height=600 />\n",
    "\n",
    "In order to determine fitness for each individual within a generation, the key piece of information needed is the computed scattering intensity, $I_{comp}$(q), which the `fitness` function gets from the `converttoIQ` function. The `converttoIQ` function is what ties the different shapes to the GA code during implementation. Each shape will have its own `converttoIQ` that takes as input a list of q values (`qrange`) and a list of parameters (the \"gene\"), and outputs a list of $I_{comp}$(q) values corresponding to the input `qrange`. If the user would like to use crease_ga for his/her own morphology (other than vesicle) and/or analytical model (instead of using Debye scattering equation), the `converttoIQ` method will be the only part of the code that will need to be modified. Let's now take a look at how `converttoIQ` of the vesicle shape is implemented."
   ]
  },
  {
   "cell_type": "markdown",
   "metadata": {},
   "source": [
    "### converttoIQ for vesicle\n",
    "\n",
    "`converttoIQ` as implemented for the vesicle shape takes two steps to obtain the $I_{comp}$(q) for an individual:\n",
    "* Generate scatterer positions based on the parameters of the individual and the shape-specific descriptors (`shape_params`) of the vesicle shape;\n",
    "* Compute $I_{comp}$(q), using Debye scattering equation, from the coordinates of the scatterers.\n",
    "\n",
    "**Scatterer placements**\n",
    "\n",
    "As mentioned in an above section, the essential information for the calculation of $I_{comp}$(q) is the scatterer placements. We calculate the total number of scatterers ($n_{tot}$) to be placed in the vesicle from the shape descriptors, but one could modify the code to instead directly choose $n_{tot}$ to control the scatterer density. For an assembled structure formed from molecules with two (or more) chemistries, the user also inputs the relative compositions for the chemical groups as $f_{A}$ and $f_{B}$ ($f_{C}$, etc. if there are other different species). The choice of the scatterer density appropriate to the assembled structure studied is chosen by the user. One way to obtain an estimate of $n_{tot}$, as shown in this tutorial example for vesicles, is through the molecular information (as defined in `shape_params` during `load_shape`) of the molecules that make up the assembled structure.\n",
    "\n",
    "As a reminder, in the vesicle shape, we specify the following shape descriptors (among others):\n",
    "* Number of scatterers used to represent a chain ($num_{scatterers}$)\n",
    "* Number of monomers in a chain ($N$)\n",
    "* Occupied volume fraction of the scatterers in the domain occupied by solvophobic B blocks ($\\eta_B$)\n",
    "* Diameter of a monomer of chemistry B ($l_{mono,b}$） [Angstrom]\n",
    "* Fraction of monomers in chain that are of B type ($f_{B}$)\n",
    "* Number of replicates ($n_{LP}$)\n",
    "\n",
    "and the following parameters (among others):\n",
    "* Core radius ($R_{core}$) \n",
    "* Three individual layer thicknesses in the bilayer consisting of the inner solvophilic A layer ($t_{Ain}$), middle solvophobic B layer ($t_{B}$), and the outer solvophilic A layer ($t_{Aout}$) \n",
    "* Split of the solvophilic scatterers between inner and outer layers ($s_{Ain}$)\n",
    "* Dispersity in the core radius dimension ($\\sigma_{R}$)\n",
    "\n",
    "\n",
    "Using these shape descriptors and parameters, let us now determine the number of scatterers to place within each layer ($n_{Ain}$, $n_{B}$ and $n_{Aout}$) in the vesicle wall:\n",
    "\n",
    "1. Get the core radius of a specific replicate ($R_{core,i}$) as the averaged core radius ($R_{core}$) plus/minus the variation in core radius for each replicate ($\\Delta_{R}$). $\\Delta_{R}$ is determined based on the dispersity in $R_{core}$ ($\\sigma_R$). For more detail on the calculation of $\\Delta_{R}$ see reference [5].\n",
    "$$ R_{core,i} = R_{core} + \\Delta_{R} $$\n",
    "\n",
    "1. Get the volume of a monomer bead of chemistry B:\n",
    "$$ V_{M,B} = \\frac{4}{3}\\pi (\\frac{l_{mono,b}}{2})^3 $$\n",
    "\n",
    "1. Calculate the volume of the solvophobic B domain for this replicate:\n",
    "$$ V_{B} = \\frac{4}{3}\\pi \\left[ (R_{core}+t_{Ain}+t_{B})^3 - (R_{core}+t_{Ain})^3 \\right] $$\n",
    "\n",
    "1. Assuming all monomers of chemistry B reside in the middle B layer, get the number of chains/molecules in the structure from the total volume occupied by monomers of chemistry B (which is equal to the total volume occupied by *scatterers* of chemistry B) and volume of each monomer of chemistry B ($V_{M,B}$):\n",
    "$$ N_{chain} = \\frac{\\eta_{B}V_{B}}{Nf_{B}V_{M,B}} $$\n",
    "\n",
    "1. The numbers of A ($n_{A}$) and B ($n_{B}$) scatterers are determined using the composition ($f_{A}$, $f_{B}$) of the respective block in the chain/molecule given by\n",
    "$$ n_{A} = N_{chain} num_{scatterers} f_{A} = N_{chain} num_{scatterers} (1-f_{B}) $$\n",
    "$$ n_{B} = N_{chain} num_{scatterers} f_{B} $$\n",
    "\n",
    "1. The numbers of A scatterers in the inner ($n_{Ain}$) and outer ($n_{Aout}$) solvophilic layers are given by\n",
    "$$ n_{Ain} = n_{A}s_{Ain} $$\n",
    "$$ n_{Aout} = n_{A}(1-s_{Ain}) $$\n",
    "\n",
    "**$s_{Ain}$, the split of the solvophilic scatterers between inner and outer layers, is a parameter that will be determined by the GA, and it is a feature of the vesicle assembly that cannot be readily determined through traditional fittings of scattering profiles with a core-multi-shell model, which can be found in the [SASVIEW package]( https://www.sasview.org/docs/user/models/core_multi_shell.html). The addition and determination of $s_{Ain}$ in CREASE for vesicles offers molecular insight into the distribution of solvophilic monomers between the inner and outer layers in the vesicle wall**. For more details on the `vesicle` shape scatterer generation and parameter determination, please read reference [5].\n",
    "\n",
    "Now using the set of information for the vesicle dimensions and the number of scatterers that go into each layer in the vesicle wall, we can generate the scatterer positions for the vesicle shape by calling the `genLP` and `gen_layer` functions."
   ]
  },
  {
   "cell_type": "markdown",
   "metadata": {},
   "source": [
    "### genLP and gen_layer\n",
    "\n",
    "<img src=\"tutorial_images/code_diagram_sub2_gen.png\" width=600 height=600 />\n",
    "\n",
    "In this example, we get the coordinates for all scatterers in the vesicle with three layers in the wall. \n",
    "\n",
    "For the vesicle system example presented here, the `gen_layer` method places $n_{size}$ number of scatterers randomly within a spherical shell defined by the inner ($r_{in}$) and outer ($r_{out}$) radii, where $n_{size}$ is the corresponding number of A or B type scatterers determined in `converttoIQ` for the given shell or layer.\n",
    "\n",
    "`gen_LP` then calls the `gen_layer` function for each individual layers in the vesicle (in this example, the two solvophilic A and one solvophobic B layers that make up the vesicle membrane) and gathers the scatterer coordinates for the complete vesicle to be passed back to `converttoIQ` for use in calculating the intra-vesicle structure factor $\\omega(q)$."
   ]
  },
  {
   "cell_type": "code",
   "execution_count": null,
   "metadata": {},
   "outputs": [],
   "source": [
    "# optional to run\n",
    "import crease_ga.shapes.vesicle.scatterer_generator as sg\n",
    "print(getsource(sg.gen_layer))\n",
    "print(getsource(sg.genLP))"
   ]
  },
  {
   "cell_type": "markdown",
   "metadata": {},
   "source": [
    "We have a visualization method written up for the vesicle shape to help us see how `genLP` works. Let's generate a scatterer configuration based on a random set of dimensions, and see how the scatterers are arranged in 3D. The visualization is interactive, so the users can zoom in and out as well as rotate the vesicle by dragging with their computer mouse."
   ]
  },
  {
   "cell_type": "code",
   "execution_count": null,
   "metadata": {},
   "outputs": [],
   "source": [
    "# optional to run (but cool visualization)\n",
    "coords = sg.genLP(Rcore=15,dR_Ain=12,dR_B=8,dR_Aout=12,sigmabead=2,nAin=200,nAout=200,nB=100)\n",
    "v = sg.visualize(coords,Rcore=15,dR_Ain=12,dR_B=8,dR_Aout=12,sigmabead=2)"
   ]
  },
  {
   "cell_type": "markdown",
   "metadata": {},
   "source": [
    "### converttoIQ for vesicle\n",
    "\n",
    "**Equations to get computed scattering intensity**\n",
    "\n",
    "Now that we have the scatterer positions from the `gen_LP` function, `converttoIQ` uses the following equations to get $I_{comp}$(q):\n",
    "\n",
    "$$ I_{comp}(q) = F_{M}^2(q)S_{MM}(q) + I_{background} $$\n",
    "\n",
    "$F^2_{M}(q)$ is the form factor given by\n",
    "$$ F^2_{M}(q) = \\sum_{\\alpha\\in{A,B}} \\sum_{\\beta\\in{A,B}} b_{\\alpha}b_{\\beta}F_{GA, \\alpha}(q)F_{GA, \\beta}(q)\\omega(q) $$\n",
    "\n",
    "where $b_{A}$ and $b_{B}$ are the scattering length densities for A and B scatterers, $F_{GA, \\alpha}(q)$ and $F_{GA, \\beta}$ are the spherical form factor amplitudes for A and B scatterers (see `LPFbead`), $\\omega(q)$ is the intra-vesicle structure factor (see `LPOmega`) and $S_{MM}(q) = 1$ is the vesicle-vesicle structure factor for dilute solutions. For concentrated solutions where the structure factor will not be equal to 1, we can combine the approach described above with the structure factor CREASE code (work in Reference [4]); we will be adding this capability into this package in the near future.\n",
    "\n",
    "So let us take a look at how $\\omega(q)$ is calculated in `LPOmega` and how the spherical form factor amplitudes $F_{GA, \\alpha}(q)$ and $F_{GA, \\beta}$ for A and B scatterers are calculated in `LPFbead` (note that in this example, A and B scatterers are spheres with the same finite size, so we only need to calculate one spherical form factor as $F_{GA, \\alpha}(q)$ = $F_{GA, \\beta}(q)$."
   ]
  },
  {
   "cell_type": "markdown",
   "metadata": {},
   "source": [
    "### LPOmega\n",
    "\n",
    "<img src=\"tutorial_images/code_diagram_sub3_omega.png\" width=600 height=600 />\n",
    "\n",
    "Here we calculate the intra-vesicle structure factor as\n",
    "$$ \\omega(q) = \\left< \\frac{1}{N_{A}+N_{B}} \\sum^{N_{A}+N_{B}}_{i=1} \\sum^{N_{A}+N_{B}}_{j=1} \\frac{\\sin{qr_{ij}}}{qr_{ij}} \\right> $$\n",
    "\n",
    "where $N_{A}$ and $N_{B}$ are the number of scatterers in the two solvophilic A and one solvophobic B layers, respectively, and $r_{ij}$ is the distance between the pair of scatterers $i$ and $j$ in the vesicle assembly determined from the previous step in `genLP`.\n",
    "\n",
    "**NOTE: The above is a computationally intensive calculation as it scales quadratically with the number of scatterers.**\n",
    "\n",
    "There are alternative faster options for directly obtaining $I_{comp}(q)$ for a given set of structural dimensions include using machine learning methods. We direct you to reference [3] where one such alternative option using artificial neural networks was developed.\n",
    "\n",
    "To see the sourcecode for `LPOmega`, run the cell block below:"
   ]
  },
  {
   "cell_type": "code",
   "execution_count": null,
   "metadata": {},
   "outputs": [],
   "source": [
    "# optional to run\n",
    "print(getsource(sg.LPOmega))"
   ]
  },
  {
   "cell_type": "markdown",
   "metadata": {},
   "source": [
    "### LPFbead\n",
    "\n",
    "<img src=\"tutorial_images/code_diagram_sub4_bead.png\" width=600 height=600 />\n",
    "\n",
    "The **spherical form factor amplitude** is calculated as\n",
    "\n",
    "$$ F_{GA, \\alpha}(q) = 3 \\frac{ \\sin(q0.5\\sigma_{GA, \\alpha}) - q0.5\\sigma_{GA, \\alpha}\\cos(q0.5\\sigma_{GA, \\alpha}) }{(q0.5\\sigma_{GA, \\alpha})^3} $$\n",
    "\n",
    "where $\\alpha$ indicates A or B scatterer and $\\sigma_{GA, \\alpha}$ is the scatterer diameter.\n",
    "\n",
    "To see the sourcecode for this function, run the following cell block:"
   ]
  },
  {
   "cell_type": "code",
   "execution_count": null,
   "metadata": {},
   "outputs": [],
   "source": [
    "# optional to run\n",
    "print(getsource(sg.LPFbead))"
   ]
  },
  {
   "cell_type": "markdown",
   "metadata": {},
   "source": [
    "### Fitness calculations\n",
    "\n",
    "<img src=\"tutorial_images/Slide10.PNG\" width=600 height=600 />\n"
   ]
  },
  {
   "cell_type": "code",
   "execution_count": null,
   "metadata": {},
   "outputs": [],
   "source": [
    "# optional to run\n",
    "print(getsource(cga.Model.fitness))"
   ]
  },
  {
   "cell_type": "markdown",
   "metadata": {},
   "source": [
    "After we have the $I_{comp}$(q) for each individual within the generation, we can compute the fitness of an individual by quantifying the error between its $I_{comp}$(q) and $I_{exp}$(q).\n",
    "\n",
    "The core of the `fitness` function is given by the following set of equations\n",
    "\n",
    "$$ fitness = X({sse}_{max}-sse)+Y $$\n",
    "\n",
    "$$ sse = \\sum w\\left[log\\left(\\frac{I_{exp}(q)}{I_{comp}(q)}\\right)\\right]^2 $$\n",
    "\n",
    "$$ X = (cs-1)\\frac{max(sse_{max}-sse)}{max(sse_{max}-sse)-average(sse_{max}-sse)} $$\n",
    "\n",
    "$$ Y = (1-X)average(sse_{max}-sse) $$\n",
    "\n",
    "where $I_{exp}$(q) is the input scattering intensity profile read in from the main GA code, $I_{comp}$(q) is the computed scattering intensity profile for the individual (to be discussed in more details later on), $sse$ is the sum of squared errors between $I_{comp}$(q) and $I_{exp}$(q), and $cs$, $X$ and $Y$ are additional factors that serve to prevent low fitness solutions from being prematurely eliminated in the population (for more detail on how these factors achieve this purpose, see references [1] and [2].\n",
    "\n",
    "In this example, we choose the form of the error function, `sse`, as the sum of the squared log difference of errors where the weighting factor, $w$, accounts for the log-scale spacing of the q values. For more details on the choice of this form for the error function for the systems explored with CREASE, see references [1-5].\n",
    "\n",
    "We also note that the user may choose to use a different form of sse as long as the choice of error function ensures appropriate error weighting in the range of q explored. For studies where the target $I_{exp}$(q) comes from experimental scattering with an associated uncertainty at each q, a commonly used formulation is $\\chi^{2}$ to account for the errors during fitting optimization. For example, SASVIEW uses $\\chi^{2}$ to quantify the goodness of fit by taking the squared direct difference between the computed and target dataset over the fitted q range weighted by the squared error at each q. If the error associated with each q is known, $\\chi^{2}$ can similarly be implemented into the fitness function in CREASE to account for uncertainty in I(q) at each q. We plan to incorporate $\\chi^{2}$ as another option for the fitness calculation in a future release coming soon.\n",
    "\n",
    "SASVIEW implementation of $\\chi^{2}$: https://www.sasview.org/docs/user/qtgui/Perspectives/Fitting/residuals_help.html\n",
    "\n"
   ]
  },
  {
   "cell_type": "markdown",
   "metadata": {},
   "source": [
    "In this example, the `fitness` function also provides useful information like which one of the individuals performed the best (\"elite\") in terms of having its $I_{comp}$(q) most closely match the input $I_{exp}$(q), the second best (\"second\"), the average (\"average\"), and the worst (\"minfit\") that are stored and saved for the user (in `fitness_vs_gen.txt`).\n",
    "\n",
    "Next, a new generation of individuals will be selected based on the fitnesses of the individuals in the  current generation. That is done in the `genetic_operations` function.\n",
    "\n",
    "### genetic_operations\n",
    "\n",
    "<img src=\"tutorial_images/Slide11.PNG\" width=600 height=600 />\n",
    "\n",
    "**Selection Process: Crossover, Mutation, and Elitism**\n",
    "\n",
    "Now that we have the fitness value for each individual in the current generation, the GA will need to select the candidates for the next generation. Then the next generation has its fitness calculated, and this iterative process is continued until the maximum number of generations (set by the user during the beginning of the main GA code) is reached. As each of the GA parameters is encoded as a seven-bit binary sequence, the genetic operations (crossover, mutation) performed on selected individuals is done in binary form.\n",
    "\n",
    "*Crossover*\n",
    "\n",
    "During crossover, two individuals in the population are selected as \"parents\" and their traits are mixed to produce a new \"offspring\" individual to be included in the next generation. Each \"parent\" individual is selected with probability $PC$, and the offspring has each of its parameters randomly chosen from one of its two \"parent\" individuals. \n",
    "\n",
    "*Mutation*\n",
    "\n",
    "An individual is selected for mutation with probability $PM$, where one of its bits is randomly changed within that parameter's range of values (between the min value and max value).\n",
    "\n",
    "*Elitism*\n",
    "\n",
    "The best individual in the generation is always included in the population for next generation.\n",
    "\n",
    "Run the block below to see the source code:"
   ]
  },
  {
   "cell_type": "code",
   "execution_count": null,
   "metadata": {},
   "outputs": [],
   "source": [
    "# optional to run\n",
    "print(getsource(cga.Model.genetic_operations))"
   ]
  },
  {
   "cell_type": "markdown",
   "metadata": {},
   "source": [
    "## Adapting the genetic operation parameters during GA\n",
    "The probabilities of crossover $PC$ and mutation $PM$ are adjusted over the generations during a GA run to help prevent premature convergence to local minima (with the `adaptation_params.update` function during `Model.solve`). These self-adjustments are controlled by a set of adaptation parameters. During the GA, $PC$ and $PM$ are updated after each generation based on the reciprocal genetic diversity parameter, $GDM$, given by\n",
    "\n",
    "$$ GDM = \\frac{\\text{min error of population}}{\\text{average error of population}} $$\n",
    "\n",
    "which also has upper and lower bounds ($GDM_{max}$, $GDM_{min}$) set by the user. $GDM$ should be between 0 and 1, with higher value indicating lower diversity in the generation. When $GDM$ becomes smaller than $GDM_{min}$ (indicating diversity within the generation is too high), $PM$ is automatically decreased (by a factor of $kGDM$) and $PC$ is increased (by a factor of $kGDM$) to encourage more crossover, and thus decrease diversity (higher $GDM$). When $GDM$ becomes larger than $GDM_{max}$, $PM$ is increased (by a factor of $kGDM$) and $PC$ is decreased (by a factor of $kGDM$) to encourage mutation and increase diversity. The adjustment factor $kGDM$ is also set by the user and needs to be larger than 1.\n",
    "\n",
    "These values can depend on the shape and need to be tested if the user applies the GA to a new shape. For this tutorial, we are using the adaptation parameters that have been optimized for the vesicle example here. To learn more about the rationale behind choosing these adaptation parameters, please read referefence [1].\n",
    "\n",
    "Run the cell block below to see the values of the adaptation parameters being used:"
   ]
  },
  {
   "cell_type": "code",
   "execution_count": null,
   "metadata": {},
   "outputs": [],
   "source": [
    "# optional to run\n",
    "for d in dir(m.adaptation_params):\n",
    "    if not '__' in d:\n",
    "    \n",
    "        print(d,getattr(m.adaptation_params,d))"
   ]
  },
  {
   "cell_type": "markdown",
   "metadata": {},
   "source": [
    "After determining the individuals in the next generation, we once again calculate the fitness for each individual in the new generation. Then the selection and fitness processes are repeated until the end of the GA run.\n",
    "\n",
    "## Running the GA\n",
    "\n",
    "We have finally gone through all the elements of `Model.solve`, and now let's get it to work!\n",
    "(**Note**: you can uncomment the `output_dir` argument for the directory to which you would like to save all the output files. The directory needs to already exist before you run this line!)"
   ]
  },
  {
   "cell_type": "code",
   "execution_count": null,
   "metadata": {},
   "outputs": [],
   "source": [
    "'''uncomment this to create a new directory'''\n",
    "!mkdir test_output_1 \n",
    "\n",
    "m.solve(name='newjob',verbose=True,output_dir='./test_output_1')"
   ]
  },
  {
   "cell_type": "markdown",
   "metadata": {},
   "source": [
    "If all of the required cell blocks of code above have been run properly, performing the GA on the small number of individuals and generations will produce the output dimensions and $I_{comp}$(q) that can be compared to the target dimensions of the structure that provided the input $I_{exp}$(q) as shown below.\n",
    "\n",
    "Data output from each generation has been saved to files under the directory specified by `output_dir`. Check out `results` for all the indiviuals at each generation, and `fitness_vs_gen` for how the fitness of the generation in general evolves. \n",
    "\n",
    "After you are finished, check out the notebook under this directory named [workflow_simplified](./workflow_simplified.ipynb), to see how each step works once we have taken out these in-depth explanations. You will see how the entire GA is actually set up and run with few lines of codes.\n",
    "\n",
    "Good luck!\n",
    "\n",
    "<img src=\"short_run_output.png\" width=300 height=300 />"
   ]
  },
  {
   "cell_type": "markdown",
   "metadata": {},
   "source": [
    "### GA for Vesicles with Larger Population Size and Number of Generations\n",
    "\n",
    "If the above codes for the example vesicle system in this tutorial have been successfully run, then the user should be able to see the best individual's $I_{comp}$(q) plotted against the input $I_{exp}$(q). With the small population size (`popnumber = 5`) and number of generations (`generations = 5`) used in this tutorial example, the resulting $I_{comp}$(q) of the best individual structure is unlikely to be a good match to the input $I_{exp}$(q). As mentioned previously, using a small number of individuals and generations in this example is purely to keep the calculations computationally feasible for a tutorial. To produce better matches to the input $I_{exp}$(q) one would need to use significantly higher number of individuals and generations (and possibly a more powerful computer to speed the GA up).\n",
    "\n",
    "Shown below is an example of GA determined results that we can expect when we use the GA on the same input $I_{exp}$(q) but with a much larger population size and number of generations:\n",
    "\n",
    "`popnumber = 80`\n",
    "\n",
    "`generations = 100`\n",
    "\n",
    "<img src=\"crease_tutorial_fig_Icomp-vs-gen.png\" width=300 height=300 />\n",
    "\n",
    "**Figure 1**: *CREASE analysis on an example vesicle with the target dimensions of small core with thin B layer (shown schematically). $I_{comp}$(q) of the best individual (colored lines) from all generations in one example GA run (with dispersity) compared with the input in silico  $I_{exp}$(q) (open circles). Progression from the initial generation to the final generation is shown with increasingly warmer colors.*\n",
    "\n",
    "From the best individual's $I_{comp}$(q) over multiple generations, we can see that increasing the population size and number of generation gradually drives the GA determined vesicle structure toward that of the target structure (**Figure 1**). Because our input  $I_{exp}$(q) was generated in silico from known target dimensions, we can also make a direct comparison of the GA determined vesicle dimensions to the known target dimensions. For comparison we also provide the dimensions determined through the traditional fitting of the data with the core-multi-shell model in SASVIEW.\n",
    "\n",
    "<img src=\"crease_tutorial_fig_dim-ga-vs-sasview.png\" width=300 height=300 />\n",
    "\n",
    "**Figure 2**: *GA determined dimensions of relevant vesicle features at the end of 100 generations for the cases where dispersity in dimensions is not accounted for in the GA step (blue triangles) and when dispersity is incorporated into the GA (orange squares). The target dimensions of the in silico Iexp(q) are shown as open circles with 20% dispersity in the core radius (Rcore) dimensions. SASVIEW fitting results using the core-multi-shell model (grey stars) are offset to the right of the target dimensions.*\n",
    "\n",
    "As discussed during the tutorial, GA for vesicles can incorporate the effect of dispersity in the dimensions of the assembly into the calculation of the individual's $I_{comp}$(q). This dispersity is determined as one of the GA results given as $\\sigma_{R}$ in this example system where dispersity is incorporated in the core radius dimension. **Figure 2** shows how the GA with (i.e. GA searches and optimizes for $\\sigma_{R}$) and without (i.e. GA sets $\\sigma_{R} = 0$) dispersity performs in getting the vesicle structural dimensions of core radius ($R_{core}$), each layer thickness ($t_{Ain}$, $t_{B}$, $t_{Aout}$) and total vesicle diameter size ($D_{vesicle}$). We can see that with an appropriate population size and number of generations, the GA is able to accurately capture the target structure's dimensions. Additionally, while the analytical fitting to a core-multi-shell model using SASVIEW can also determine these structural dimensions, GA for vesicle is able to inform the user how the molecules are split between the inner and outer layers of the vesicle wall ($s_{Ain}$), a piece of molecular information not available if the core-multi-shell model is used instead. The GA determined parameter $s_{Ain}$ gives the fraction of molecules in the vesicle assembly that occupies the inner layer of the vesicle walls. For this example system, the target structure has 20% of the molecules in the assembly occupying the inner layer of the vesicle wall and the GA is able to determine $s_{Ain}$ as 28%, matching the target value.\n",
    "\n",
    "<img src=\"crease_tutorial_fig_high_dispersity.png\" width=750 height=500 />\n",
    "\n",
    "**Figure 3**: *GA analysis on (a) sample of highly disperse vesicles created using target dimensions that encompass small\n",
    "core with thin B layer, small core with thick B layer, and big core with thick B layer. (b) Icomp(q) of the best individual\n",
    "(colored lines) for all generations in one example GA run (with dispersity) compared with the input in silico scattering\n",
    "intensity Iexp(q) (open circles). Progression from the initial generation to the final generation is shown by increasingly\n",
    "warmer colors. (c) GA determined dimensions of relevant vesicle features for the cases where dispersity is not\n",
    "accounted for in the GA step (blue triangles) and when dispersity is incorporated into the GA (orange squares). The\n",
    "target dimensions of the in silico Iexp(q) are shown as open circles. SASVIEW fitting results using the core-multi-shell\n",
    "model (grey stars) are offset to the right of the target dimensions.*\n",
    "\n",
    "In Figure 3, we show another example where GA is applied to an *in silico* sample where dispersity exists not only in the core radius, but also in all other dimensions including the thicknesses of the three layers. Among the GA parameters, however, we still only incorporate dispersity in the core radius ($\\sigma_{R}$), but not the other dimensions. In this more challenging task, GA (with or without dispersity in core radius) outperforms the core-multi-shell model used in SASview significantly in all the dimensions, with SASView-predicted values in general falling out of the uncertainty range.\n",
    "\n",
    "For more detailed discussions on CREASE for vesicles and its application to different vesicle sizes and high dispersity, the user can refer to reference [5]."
   ]
  }
 ],
 "metadata": {
  "kernelspec": {
   "display_name": "Python 3",
   "language": "python",
   "name": "python3"
  },
  "language_info": {
   "codemirror_mode": {
    "name": "ipython",
    "version": 3
   },
   "file_extension": ".py",
   "mimetype": "text/x-python",
   "name": "python",
   "nbconvert_exporter": "python",
   "pygments_lexer": "ipython3",
   "version": "3.8.5"
  }
 },
 "nbformat": 4,
 "nbformat_minor": 2
}
