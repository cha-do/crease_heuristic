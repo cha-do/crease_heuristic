{
 "cells": [
  {
   "cell_type": "code",
   "execution_count": null,
   "metadata": {},
   "outputs": [],
   "source": [
    "import crease_ga as cga"
   ]
  },
  {
   "cell_type": "markdown",
   "metadata": {},
   "source": [
    "basic steps to run a GA"
   ]
  },
  {
   "cell_type": "code",
   "execution_count": null,
   "metadata": {},
   "outputs": [],
   "source": [
    "m = cga.Model(pop_number = 5,\n",
    "              generations = 5,\n",
    "              nloci = 7)\n",
    "#detailed explanations are needed to describe what each value in shape params means\n",
    "m.load_shape(shape='vesicle',shape_params=[24,54,0.5,50.4,50.4,0.55,7],\n",
    "                                     minvalu = (50, 30, 30, 30, 0.1, 0.0, 0.1),\n",
    "                                     maxvalu = (400, 200, 200, 200, 0.45, 0.45, 4))\n",
    "                                     \n",
    "m.load_iq('../IEXP_DATA/Itot_disper_10_Ain12_B6_Aout12_nLP7_dR0.2.txt')\n",
    "!mkdir ./test_outputs_1\n",
    "m.solve(output_dir='./test_outputs_1')"
   ]
  }
 ],
 "metadata": {
  "kernelspec": {
   "display_name": "Python 3 (ipykernel)",
   "language": "python",
   "name": "python3"
  },
  "language_info": {
   "codemirror_mode": {
    "name": "ipython",
    "version": 3
   },
   "file_extension": ".py",
   "mimetype": "text/x-python",
   "name": "python",
   "nbconvert_exporter": "python",
   "pygments_lexer": "ipython3",
   "version": "3.9.7"
  }
 },
 "nbformat": 4,
 "nbformat_minor": 4
}
